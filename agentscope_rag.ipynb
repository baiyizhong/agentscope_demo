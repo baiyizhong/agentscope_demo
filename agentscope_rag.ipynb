{
 "cells": [
  {
   "cell_type": "code",
   "execution_count": null,
   "id": "initial_id",
   "metadata": {
    "ExecuteTime": {
     "end_time": "2025-09-27T14:28:36.650765Z",
     "start_time": "2025-09-27T14:28:36.647189Z"
    },
    "collapsed": true,
    "jupyter": {
     "outputs_hidden": true
    }
   },
   "outputs": [],
   "source": [
    "import asyncio\n",
    "import json\n",
    "import os\n",
    "\n",
    "from matplotlib import pyplot as plt\n",
    "\n",
    "import agentscope\n",
    "from agentscope.agent import ReActAgent\n",
    "from agentscope.embedding import (\n",
    "    OpenAITextEmbedding,DashScopeMultiModalEmbedding,\n",
    ")\n",
    "from agentscope.formatter import OpenAIChatFormatter\n",
    "from agentscope.message import Msg\n",
    "from agentscope.model import OpenAIChatModel\n",
    "from agentscope.rag import (\n",
    "    TextReader,\n",
    "    SimpleKnowledge,\n",
    "    QdrantStore,\n",
    "    Document,\n",
    "    ImageReader,\n",
    ")\n",
    "from agentscope.tool import Toolkit\n",
    "from config.env_loader import load_env, get_env\n",
    "load_env()"
   ]
  },
  {
   "cell_type": "code",
   "execution_count": 2,
   "id": "ed65c78056df7171",
   "metadata": {
    "ExecuteTime": {
     "end_time": "2025-09-27T14:28:36.670399Z",
     "start_time": "2025-09-27T14:28:36.667865Z"
    }
   },
   "outputs": [
    {
     "name": "stdout",
     "output_type": "stream",
     "text": [
      "- TextReader\n",
      "- PDFReader\n",
      "- ImageReader\n"
     ]
    }
   ],
   "source": [
    "for _ in agentscope.rag.__all__:\n",
    "    if _.endswith(\"Reader\"):\n",
    "        print(f\"- {_}\")"
   ]
  },
  {
   "cell_type": "code",
   "execution_count": 3,
   "id": "d352802e26d21834",
   "metadata": {
    "ExecuteTime": {
     "end_time": "2025-09-27T14:28:36.680457Z",
     "start_time": "2025-09-27T14:28:36.676154Z"
    }
   },
   "outputs": [
    {
     "name": "stderr",
     "output_type": "stream",
     "text": [
      "2025-09-27 22:39:09,030 | INFO    | _text_reader:__call__:68 - Reading text with chunk_size=512, split_by=paragraph\n",
      "2025-09-27 22:39:09,031 | INFO    | _text_reader:__call__:126 - Finished splitting the text into 5 chunks.\n"
     ]
    },
    {
     "name": "stdout",
     "output_type": "stream",
     "text": [
      "文本被分块为 5 个 Document 对象：\n",
      "Document 0:\n",
      "\tScore:  None\n",
      "\tMetadata:  {\n",
      "  \"content\": {\n",
      "    \"type\": \"text\",\n",
      "    \"text\": \"我的名字是李明，今年28岁。\"\n",
      "  },\n",
      "  \"doc_id\": \"547e45879e96438c19ddb0f06bcf750ead3cc20e079458880f3533bcb2300a13\",\n",
      "  \"chunk_id\": 0,\n",
      "  \"total_chunks\": 5\n",
      "} \n",
      "\n",
      "Document 1:\n",
      "\tScore:  None\n",
      "\tMetadata:  {\n",
      "  \"content\": {\n",
      "    \"type\": \"text\",\n",
      "    \"text\": \"我居住在中国杭州，是一名算法工程师。我喜欢打篮球和玩游戏。\"\n",
      "  },\n",
      "  \"doc_id\": \"547e45879e96438c19ddb0f06bcf750ead3cc20e079458880f3533bcb2300a13\",\n",
      "  \"chunk_id\": 1,\n",
      "  \"total_chunks\": 5\n",
      "} \n",
      "\n",
      "Document 2:\n",
      "\tScore:  None\n",
      "\tMetadata:  {\n",
      "  \"content\": {\n",
      "    \"type\": \"text\",\n",
      "    \"text\": \"我父亲的名字是李强，是一名医生，我的母亲是陈芳芳，是一名教师，她总是指导我学习。\"\n",
      "  },\n",
      "  \"doc_id\": \"547e45879e96438c19ddb0f06bcf750ead3cc20e079458880f3533bcb2300a13\",\n",
      "  \"chunk_id\": 2,\n",
      "  \"total_chunks\": 5\n",
      "} \n",
      "\n",
      "Document 3:\n",
      "\tScore:  None\n",
      "\tMetadata:  {\n",
      "  \"content\": {\n",
      "    \"type\": \"text\",\n",
      "    \"text\": \"我现在在北京大学攻读博士学位，研究方向是人工智能。\"\n",
      "  },\n",
      "  \"doc_id\": \"547e45879e96438c19ddb0f06bcf750ead3cc20e079458880f3533bcb2300a13\",\n",
      "  \"chunk_id\": 3,\n",
      "  \"total_chunks\": 5\n",
      "} \n",
      "\n",
      "Document 4:\n",
      "\tScore:  None\n",
      "\tMetadata:  {\n",
      "  \"content\": {\n",
      "    \"type\": \"text\",\n",
      "    \"text\": \"我最好的朋友是王伟，我们从小一起长大，现在他是一名律师。\"\n",
      "  },\n",
      "  \"doc_id\": \"547e45879e96438c19ddb0f06bcf750ead3cc20e079458880f3533bcb2300a13\",\n",
      "  \"chunk_id\": 4,\n",
      "  \"total_chunks\": 5\n",
      "} \n",
      "\n"
     ]
    }
   ],
   "source": [
    "async def example_text_reader(print_docs: bool) -> list[Document]:\n",
    "    \"\"\"使用 TextReader 读取文本字符串，并将文本分块为 Document 对象。\"\"\"\n",
    "    # 创建 TextReader 对象\n",
    "    reader = TextReader(chunk_size=512, split_by=\"paragraph\")\n",
    "\n",
    "    # 读取文本字符串\n",
    "    documents = await reader(\n",
    "        text=(\n",
    "            # 我们准备一些文本数据用于演示 RAG 功能。\n",
    "            \"我的名字是李明，今年28岁。\\n\"\n",
    "            \"我居住在中国杭州，是一名算法工程师。我喜欢打篮球和玩游戏。\\n\"\n",
    "            \"我父亲的名字是李强，是一名医生，我的母亲是陈芳芳，是一名教师，她总是指导我学习。\\n\"\n",
    "            \"我现在在北京大学攻读博士学位，研究方向是人工智能。\\n\"\n",
    "            \"我最好的朋友是王伟，我们从小一起长大，现在他是一名律师。\"\n",
    "        ),\n",
    "    )\n",
    "\n",
    "    if print_docs:\n",
    "        print(f\"文本被分块为 {len(documents)} 个 Document 对象：\")\n",
    "        for idx, doc in enumerate(documents):\n",
    "            print(f\"Document {idx}:\")\n",
    "            print(\"\\tScore: \", doc.score)\n",
    "            print(\n",
    "                \"\\tMetadata: \",\n",
    "                json.dumps(doc.metadata, indent=2, ensure_ascii=False),\n",
    "                \"\\n\",\n",
    "            )\n",
    "\n",
    "    return documents\n",
    "\n",
    "\n",
    "# docs = asyncio.run(example_text_reader(print_docs=True))\n",
    "docs = await example_text_reader(print_docs=True)"
   ]
  },
  {
   "cell_type": "code",
   "execution_count": 7,
   "id": "af5cef03",
   "metadata": {},
   "outputs": [],
   "source": [
    "async def build_knowledge_base() -> SimpleKnowledge:\n",
    "    \"\"\"构建知识库。\"\"\"\n",
    "    # 读取 documents 数据\n",
    "    documents = await example_text_reader(print_docs=False)\n",
    "\n",
    "    # 创建一个内存中的 Qdrant 向量存储，以及使用 DashScopeTextEmbedding 作为嵌入模型，初始化知识库\n",
    "    knowledge = SimpleKnowledge(\n",
    "        # 提供一个 embedding 模型用于将文本转换为向量\n",
    "        embedding_model=OpenAITextEmbedding(\n",
    "            api_key=get_env(\"OPENAI_API_KEY\",\"SK\"),\n",
    "            model_name=\"BAAI/bge-m3\",\n",
    "            dimensions=1024,\n",
    "        ),\n",
    "        # 选择 Qdrant 作为向量存储\n",
    "        embedding_store=QdrantStore(\n",
    "            location=\":memory:\",  # 使用内存模式\n",
    "            collection_name=\"test_collection\",\n",
    "            dimensions=1024,  # 嵌入向量的维度必须与嵌入模型输出的维度一致\n",
    "        ),\n",
    "    )\n",
    "\n",
    "    # 将 documents 添加到知识库中\n",
    "    await knowledge.add_documents(documents)\n",
    "\n",
    "    # 从知识库中检索数据\n",
    "    docs = await knowledge.retrieve(\n",
    "        query=\"李明的父亲是谁？\",\n",
    "        limit=3,\n",
    "        score_threshold=0.5,\n",
    "    )\n",
    "\n",
    "    print(\"检索到的 Document 对象：\")\n",
    "    for doc in docs:\n",
    "        print(doc, \"\\n\")\n",
    "\n",
    "    return knowledge\n",
    "\n",
    "\n",
    "# knowledge = asyncio.run(build_knowledge_base())\n",
    "knowledge = build_knowledge_base()"
   ]
  }
 ],
 "metadata": {
  "kernelspec": {
   "display_name": "agentscope_demo",
   "language": "python",
   "name": "python3"
  },
  "language_info": {
   "codemirror_mode": {
    "name": "ipython",
    "version": 3
   },
   "file_extension": ".py",
   "mimetype": "text/x-python",
   "name": "python",
   "nbconvert_exporter": "python",
   "pygments_lexer": "ipython3",
   "version": "3.12.11"
  }
 },
 "nbformat": 4,
 "nbformat_minor": 5
}
